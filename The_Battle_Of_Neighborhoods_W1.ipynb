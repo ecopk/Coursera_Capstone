{
    "nbformat_minor": 2, 
    "cells": [
        {
            "source": "<h1 align=center><font size = 5>The Battle Of Neighborhoods Week 1</font></h1>", 
            "cell_type": "markdown", 
            "metadata": {
                "button": false, 
                "new_sheet": false, 
                "run_control": {
                    "read_only": false
                }
            }
        }, 
        {
            "source": "# Introduction", 
            "cell_type": "markdown", 
            "metadata": {
                "button": false, 
                "new_sheet": false, 
                "run_control": {
                    "read_only": false
                }
            }
        }, 
        {
            "source": "Pakistan[b] (Urdu: \u067e\u0627\u06a9\u0650\u0633\u062a\u0627\u0646\u202c\u200e), officially the Islamic Republic of Pakistan (Urdu: \u0627\u0650\u0633\u0644\u0627\u0645\u06cc \u062c\u0645\u06c1\u0648\u0631\u06cc\u06c1 \u067e\u0627\u06a9\u0650\u0633\u062a\u0627\u0646\u202c\u200e), is a country in South Asia. It is the sixth-most populous country with a population exceeding 212,742,631 people.[19] In area, it is the 33rd-largest country, spanning 881,913 square kilometres (340,509 square miles). Pakistan has a 1,046-kilometre (650-mile) coastline along the Arabian Sea and Gulf of Oman in the south and is bordered by India to the east, Afghanistan to the west, Iran to the southwest, and China in the far northeast. It is separated narrowly from Tajikistan by Afghanistan's Wakhan Corridor in the northwest, and also shares a maritime border with Oman.\n\nKarachi and Islamabad are two major cities in Pakistan. One being the financial hub and other being the capital of the country, accommodating nearly 16M population. With growing needs and economy the population index has a perpetual rise of 50% year over year betweeen these two major cities of Pakistan, essentially requiring new housing and education projects to cater for the growing demand. The question that we need to answer by leveraging several interrelated datasets is 'how many' and 'which' parts of the cities.", 
            "cell_type": "markdown", 
            "metadata": {
                "button": false, 
                "new_sheet": false, 
                "run_control": {
                    "read_only": false
                }
            }
        }, 
        {
            "source": "### Karachi", 
            "cell_type": "markdown", 
            "metadata": {}
        }, 
        {
            "source": "Karachi (Urdu: \u06a9\u0631\u0627\u0686\u06cc\u202c\u200e; ALA-LC: Kar\u0101c\u012b, IPA: [k\u0259\u02c8ra\u02d0t\u0283i] (About this soundlisten); Sindhi: \u06aa\u0631\u0627\u0686\u064a\u200e) is the capital of the Pakistani province of Sindh. It is the most populous city in Pakistan,[12][13] and sixth-most-populous city proper in the world.[14][15] Ranked as a beta world city,[16][17] the city is Pakistan's premier industrial and financial centre.[18] Karachi is also Pakistan's most cosmopolitan city.[19] Situated on the Arabian Sea, Karachi serves as a transport hub, and is home to Pakistan's two largest seaports, the Port of Karachi and Port Bin Qasim, as well as the busiest airport in Pakistan.", 
            "cell_type": "markdown", 
            "metadata": {}
        }, 
        {
            "execution_count": null, 
            "cell_type": "code", 
            "metadata": {}, 
            "outputs": [], 
            "source": ""
        }
    ], 
    "metadata": {
        "kernelspec": {
            "display_name": "Python 3.5", 
            "name": "python3", 
            "language": "python"
        }, 
        "language_info": {
            "mimetype": "text/x-python", 
            "nbconvert_exporter": "python", 
            "version": "3.5.5", 
            "name": "python", 
            "file_extension": ".py", 
            "pygments_lexer": "ipython3", 
            "codemirror_mode": {
                "version": 3, 
                "name": "ipython"
            }
        }
    }, 
    "nbformat": 4
}