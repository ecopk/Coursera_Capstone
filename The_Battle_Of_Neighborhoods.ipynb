{
    "nbformat_minor": 2, 
    "cells": [
        {
            "source": "<h1 align=center><font size = 5>The Battle Of Neighborhoods Week 1</font></h1>", 
            "cell_type": "markdown", 
            "metadata": {
                "button": false, 
                "new_sheet": false, 
                "run_control": {
                    "read_only": false
                }
            }
        }, 
        {
            "source": "# Introduction", 
            "cell_type": "markdown", 
            "metadata": {
                "button": false, 
                "new_sheet": false, 
                "run_control": {
                    "read_only": false
                }
            }
        }, 
        {
            "source": "The United Arab Emirates (UAE; Arabic: \u062f\u0648\u0644\u0629 \u0627\u0644\u0625\u0645\u0627\u0631\u0627\u062a \u0627\u0644\u0639\u0631\u0628\u064a\u0629 \u0627\u0644\u0645\u062a\u062d\u062f\u0629\u200e Dawlat al-\u02beIm\u0101r\u0101t al-\u02bfArab\u012byyah al-Mutta\u1e25idah), sometimes simply called the Emirates (Arabic: \u0627\u0644\u0625\u0645\u0627\u0631\u0627\u062a\u200e al-\u02beIm\u0101r\u0101t), is the most modern and advance countries across the Middle East region often referred to as the Business Hub of Middle East. The UAE is a federation of seven emirates consisting of Abu Dhabi, Ajman, Dubai, Fujairah, Ras al-Khaimah, Sharjah and Umm al-Quwain. \n\nDubai (/du\u02d0\u02c8ba\u026a/ doo-BY; Arabic: \u062f\u0628\u064a\u200e Dubay, Gulf Arabic: Arabic pronunciation: [d\u028a\u02c8b\u0251j]) is the largest and most populous city in the United Arab Emirates (hereinafter referred to as UAE). The UAE is the most modern and advanced countries across the Middle East region and is also the central business hub location for local, regional and global businesses. Dubai is one of the 7 states in the UAE and welcomes over 30000 passengers each day through its state of the art world class airports and hosts over 60% of the entire expatriate population across the country. ", 
            "cell_type": "markdown", 
            "metadata": {
                "button": false, 
                "new_sheet": false, 
                "run_control": {
                    "read_only": false
                }
            }
        }, 
        {
            "source": "### Objective", 
            "cell_type": "markdown", 
            "metadata": {}
        }, 
        {
            "source": "Being a very busy city, one of the most challenging aspects is to find the best neighborhood in Dubai. A neighborhood that is in close proximity of the work location, within the budget, offers quality schooling and other required facilities. \n\nOur project is envisaged to analyze and classify areas of Dubai by leveraging Foursquare APIs and Machine Learning techniques such as Segmentation and Clustering. The final objective of this project is to Segment/Classify areas of Dubai based on Common Places captured from Foursquare APIs.\n\n- Similarities and Dissimilarities between the Sectors of Dubai\n- Classification of Areas by proximity, Residential, Tourism and Other", 
            "cell_type": "markdown", 
            "metadata": {}
        }, 
        {
            "execution_count": null, 
            "cell_type": "code", 
            "metadata": {}, 
            "outputs": [], 
            "source": ""
        }
    ], 
    "metadata": {
        "kernelspec": {
            "display_name": "Python 3.5", 
            "name": "python3", 
            "language": "python"
        }, 
        "language_info": {
            "mimetype": "text/x-python", 
            "nbconvert_exporter": "python", 
            "version": "3.5.5", 
            "name": "python", 
            "file_extension": ".py", 
            "pygments_lexer": "ipython3", 
            "codemirror_mode": {
                "version": 3, 
                "name": "ipython"
            }
        }
    }, 
    "nbformat": 4
}